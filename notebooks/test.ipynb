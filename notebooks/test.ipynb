{
 "cells": [
  {
   "cell_type": "code",
   "execution_count": 1,
   "metadata": {},
   "outputs": [],
   "source": [
    "import torch\n",
    "from torch import nn\n",
    "import numpy as np\n",
    "from defconv.models import ConvNet, DeformConvNet\n",
    "from argus import Model\n",
    "import torchvision.datasets as datasets\n",
    "import torchvision.transforms as transforms\n",
    "from torch.utils.data import DataLoader\n",
    "from sklearn.metrics import accuracy_score"
   ]
  },
  {
   "cell_type": "code",
   "execution_count": 2,
   "metadata": {},
   "outputs": [],
   "source": [
    "transform=transforms.Compose([\n",
    "                   transforms.ToTensor(),\n",
    "                   transforms.Normalize((0.1307,), (0.3081,))\n",
    "               ])"
   ]
  },
  {
   "cell_type": "code",
   "execution_count": 3,
   "metadata": {},
   "outputs": [],
   "source": [
    "mnist_trainset = DataLoader(datasets.MNIST(root='./data', train=True, download=True, transform=transform),\n",
    "                           batch_size=64,shuffle=True)\n",
    "mnist_valset = DataLoader(datasets.MNIST(root='./data', train=False, download=True, transform=transform),\n",
    "                         batch_size=64, shuffle=True)"
   ]
  },
  {
   "cell_type": "code",
   "execution_count": 4,
   "metadata": {},
   "outputs": [],
   "source": [
    "# in_channels = 1\n",
    "# channels = [32,32,64,64, 128, 128, 128 ,128]\n",
    "# n_classes = 10\n",
    "# convnet = ConvNet(in_channels, channels, n_classes, padding=1)\n",
    "# defconvnet = DeformConvNet(in_channels, channels, n_classes, padding=1)\n",
    "\n",
    "# print(convnet(torch.rand((1,1,28,28))).shape)\n",
    "\n",
    "# print(defconvnet(torch.rand(64,1,28,28)).shape)"
   ]
  },
  {
   "cell_type": "code",
   "execution_count": 5,
   "metadata": {},
   "outputs": [],
   "source": [
    "class ConvNetArgus(Model):\n",
    "    nn_module = ConvNet\n",
    "    loss = 'CrossEntropyLoss'\n",
    "\n",
    "class DeformConvNetArgus(Model):\n",
    "    nn_module = DeformConvNet\n",
    "    loss = 'CrossEntropyLoss'"
   ]
  },
  {
   "cell_type": "code",
   "execution_count": 9,
   "metadata": {},
   "outputs": [],
   "source": [
    "PARAMS = {'nn_module': {\n",
    "                        'in_channels': 1,\n",
    "                         'channels': [32,32,64,64, 128, 128, 128 ,128],\n",
    "                         'n_classes': 10\n",
    "                        },\n",
    "          \n",
    "           'optimizer': ('Adam', {'lr':1e-3}),\n",
    "           'device':'cuda'\n",
    "         }"
   ]
  },
  {
   "cell_type": "code",
   "execution_count": 10,
   "metadata": {},
   "outputs": [],
   "source": [
    "model2 = DeformConvNetArgus(PARAMS)"
   ]
  },
  {
   "cell_type": "code",
   "execution_count": 11,
   "metadata": {},
   "outputs": [
    {
     "name": "stderr",
     "output_type": "stream",
     "text": [
      "2019-08-10 20:35:11,557 INFO Validation, val_loss: 2.302618\n",
      "2019-08-10 20:35:52,717 INFO Train - Epoch: 1, LR: 0.001, train_loss: 1.577252\n",
      "2019-08-10 20:35:56,072 INFO Validation - Epoch: 1, val_loss: 1.505638\n",
      "2019-08-10 20:36:37,522 INFO Train - Epoch: 2, LR: 0.001, train_loss: 1.504117\n",
      "2019-08-10 20:36:40,925 INFO Validation - Epoch: 2, val_loss: 1.494042\n",
      "2019-08-10 20:37:23,469 INFO Train - Epoch: 3, LR: 0.001, train_loss: 1.501095\n",
      "2019-08-10 20:37:26,864 INFO Validation - Epoch: 3, val_loss: 1.494587\n",
      "2019-08-10 20:38:07,781 INFO Train - Epoch: 4, LR: 0.001, train_loss: 1.501452\n",
      "2019-08-10 20:38:11,149 INFO Validation - Epoch: 4, val_loss: 1.489388\n",
      "2019-08-10 20:38:51,611 INFO Train - Epoch: 5, LR: 0.001, train_loss: 1.493299\n",
      "2019-08-10 20:38:55,013 INFO Validation - Epoch: 5, val_loss: 1.485181\n",
      "2019-08-10 20:39:37,036 INFO Train - Epoch: 6, LR: 0.001, train_loss: 1.492843\n",
      "2019-08-10 20:39:40,433 INFO Validation - Epoch: 6, val_loss: 1.488932\n",
      "2019-08-10 20:40:21,905 INFO Train - Epoch: 7, LR: 0.001, train_loss: 1.490373\n",
      "2019-08-10 20:40:25,359 INFO Validation - Epoch: 7, val_loss: 1.485243\n",
      "2019-08-10 20:41:05,759 INFO Train - Epoch: 8, LR: 0.001, train_loss: 1.489598\n",
      "2019-08-10 20:41:09,141 INFO Validation - Epoch: 8, val_loss: 1.478645\n",
      "2019-08-10 20:41:49,602 INFO Train - Epoch: 9, LR: 0.001, train_loss: 1.485627\n",
      "2019-08-10 20:41:52,966 INFO Validation - Epoch: 9, val_loss: 1.483575\n",
      "2019-08-10 20:42:33,398 INFO Train - Epoch: 10, LR: 0.001, train_loss: 1.486758\n",
      "2019-08-10 20:42:36,744 INFO Validation - Epoch: 10, val_loss: 1.481537\n",
      "2019-08-10 20:43:17,146 INFO Train - Epoch: 11, LR: 0.001, train_loss: 1.482716\n",
      "2019-08-10 20:43:20,518 INFO Validation - Epoch: 11, val_loss: 1.48109\n",
      "2019-08-10 20:44:01,601 INFO Train - Epoch: 12, LR: 0.001, train_loss: 1.484322\n",
      "2019-08-10 20:44:04,970 INFO Validation - Epoch: 12, val_loss: 1.483618\n",
      "2019-08-10 20:44:46,578 INFO Train - Epoch: 13, LR: 0.001, train_loss: 1.482661\n",
      "2019-08-10 20:44:49,995 INFO Validation - Epoch: 13, val_loss: 1.482929\n",
      "2019-08-10 20:45:31,508 INFO Train - Epoch: 14, LR: 0.001, train_loss: 1.481902\n",
      "2019-08-10 20:45:34,876 INFO Validation - Epoch: 14, val_loss: 1.478574\n",
      "2019-08-10 20:46:15,326 INFO Train - Epoch: 15, LR: 0.001, train_loss: 1.482129\n",
      "2019-08-10 20:46:18,735 INFO Validation - Epoch: 15, val_loss: 1.476622\n",
      "2019-08-10 20:47:00,875 INFO Train - Epoch: 16, LR: 0.001, train_loss: 1.480857\n",
      "2019-08-10 20:47:04,302 INFO Validation - Epoch: 16, val_loss: 1.481814\n",
      "2019-08-10 20:47:45,929 INFO Train - Epoch: 17, LR: 0.001, train_loss: 1.481507\n",
      "2019-08-10 20:47:49,358 INFO Validation - Epoch: 17, val_loss: 1.475399\n",
      "2019-08-10 20:48:29,893 INFO Train - Epoch: 18, LR: 0.001, train_loss: 1.481109\n",
      "2019-08-10 20:48:33,261 INFO Validation - Epoch: 18, val_loss: 1.481428\n",
      "2019-08-10 20:49:13,775 INFO Train - Epoch: 19, LR: 0.001, train_loss: 1.482656\n",
      "2019-08-10 20:49:17,176 INFO Validation - Epoch: 19, val_loss: 1.476546\n",
      "2019-08-10 20:49:58,741 INFO Train - Epoch: 20, LR: 0.001, train_loss: 1.48084\n",
      "2019-08-10 20:50:02,134 INFO Validation - Epoch: 20, val_loss: 1.476031\n"
     ]
    }
   ],
   "source": [
    "model2.fit(mnist_trainset, val_loader=mnist_valset, max_epochs=20)"
   ]
  },
  {
   "cell_type": "code",
   "execution_count": 24,
   "metadata": {},
   "outputs": [],
   "source": [
    "from dpipe.torch.utils import to_var, to_np\n",
    "targets = []\n",
    "prediction = []\n",
    "\n",
    "for batch in mnist_valset:\n",
    "    input, target = batch\n",
    "    preds = model2.predict(input.cuda())\n",
    "    prediction.extend(to_np(preds))\n",
    "    targets.extend(to_np(target))"
   ]
  },
  {
   "cell_type": "code",
   "execution_count": 25,
   "metadata": {},
   "outputs": [],
   "source": [
    "prediction = np.array(prediction)\n",
    "targets = np.array(targets)"
   ]
  },
  {
   "cell_type": "code",
   "execution_count": 26,
   "metadata": {},
   "outputs": [
    {
     "data": {
      "text/plain": [
       "(10000, 10)"
      ]
     },
     "execution_count": 26,
     "metadata": {},
     "output_type": "execute_result"
    }
   ],
   "source": [
    "prediction.shape"
   ]
  },
  {
   "cell_type": "code",
   "execution_count": null,
   "metadata": {},
   "outputs": [],
   "source": []
  },
  {
   "cell_type": "code",
   "execution_count": null,
   "metadata": {},
   "outputs": [],
   "source": [
    "prediction.argmax(1)"
   ]
  },
  {
   "cell_type": "code",
   "execution_count": 9,
   "metadata": {},
   "outputs": [],
   "source": [
    "model1 = ConvNetArgus(PARAMS)"
   ]
  },
  {
   "cell_type": "code",
   "execution_count": 10,
   "metadata": {},
   "outputs": [
    {
     "name": "stderr",
     "output_type": "stream",
     "text": [
      "2019-08-10 20:12:02,247 INFO Validation, val_loss: 2.302584\n",
      "2019-08-10 20:12:25,823 INFO Train - Epoch: 1, LR: 0.01, train_loss: 1.550499\n",
      "2019-08-10 20:12:27,996 INFO Validation - Epoch: 1, val_loss: 1.496974\n",
      "2019-08-10 20:12:51,671 INFO Train - Epoch: 2, LR: 0.01, train_loss: 1.490642\n",
      "2019-08-10 20:12:53,868 INFO Validation - Epoch: 2, val_loss: 1.492389\n",
      "2019-08-10 20:13:18,197 INFO Train - Epoch: 3, LR: 0.01, train_loss: 1.485896\n",
      "2019-08-10 20:13:20,428 INFO Validation - Epoch: 3, val_loss: 1.481224\n",
      "2019-08-10 20:13:44,058 INFO Train - Epoch: 4, LR: 0.01, train_loss: 1.483933\n",
      "2019-08-10 20:13:46,316 INFO Validation - Epoch: 4, val_loss: 1.49637\n",
      "2019-08-10 20:14:10,377 INFO Train - Epoch: 5, LR: 0.01, train_loss: 1.48008\n",
      "2019-08-10 20:14:12,560 INFO Validation - Epoch: 5, val_loss: 1.476188\n",
      "2019-08-10 20:14:36,708 INFO Train - Epoch: 6, LR: 0.01, train_loss: 1.479211\n",
      "2019-08-10 20:14:38,941 INFO Validation - Epoch: 6, val_loss: 1.474259\n",
      "2019-08-10 20:15:02,936 INFO Train - Epoch: 7, LR: 0.01, train_loss: 1.47864\n",
      "2019-08-10 20:15:05,129 INFO Validation - Epoch: 7, val_loss: 1.47456\n",
      "2019-08-10 20:15:29,178 INFO Train - Epoch: 8, LR: 0.01, train_loss: 1.479162\n",
      "2019-08-10 20:15:31,405 INFO Validation - Epoch: 8, val_loss: 1.475364\n",
      "2019-08-10 20:15:55,356 INFO Train - Epoch: 9, LR: 0.01, train_loss: 1.476906\n",
      "2019-08-10 20:15:57,544 INFO Validation - Epoch: 9, val_loss: 1.473661\n",
      "2019-08-10 20:16:21,588 INFO Train - Epoch: 10, LR: 0.01, train_loss: 1.477133\n",
      "2019-08-10 20:16:23,817 INFO Validation - Epoch: 10, val_loss: 1.476744\n",
      "2019-08-10 20:16:47,746 INFO Train - Epoch: 11, LR: 0.01, train_loss: 1.476496\n",
      "2019-08-10 20:16:49,973 INFO Validation - Epoch: 11, val_loss: 1.474404\n",
      "2019-08-10 20:17:13,963 INFO Train - Epoch: 12, LR: 0.01, train_loss: 1.475097\n",
      "2019-08-10 20:17:16,186 INFO Validation - Epoch: 12, val_loss: 1.475165\n",
      "2019-08-10 20:17:38,358 INFO Train - Epoch: 13, LR: 0.01, train_loss: 1.474887\n",
      "2019-08-10 20:17:40,477 INFO Validation - Epoch: 13, val_loss: 1.471923\n",
      "2019-08-10 20:18:02,727 INFO Train - Epoch: 14, LR: 0.01, train_loss: 1.47473\n",
      "2019-08-10 20:18:04,866 INFO Validation - Epoch: 14, val_loss: 1.470635\n",
      "2019-08-10 20:18:27,133 INFO Train - Epoch: 15, LR: 0.01, train_loss: 1.474649\n",
      "2019-08-10 20:18:29,266 INFO Validation - Epoch: 15, val_loss: 1.472963\n",
      "2019-08-10 20:18:51,487 INFO Train - Epoch: 16, LR: 0.01, train_loss: 1.474125\n",
      "2019-08-10 20:18:53,638 INFO Validation - Epoch: 16, val_loss: 1.471977\n",
      "2019-08-10 20:19:15,894 INFO Train - Epoch: 17, LR: 0.01, train_loss: 1.474405\n",
      "2019-08-10 20:19:18,014 INFO Validation - Epoch: 17, val_loss: 1.473534\n",
      "2019-08-10 20:19:40,085 INFO Train - Epoch: 18, LR: 0.01, train_loss: 1.473769\n",
      "2019-08-10 20:19:42,226 INFO Validation - Epoch: 18, val_loss: 1.473647\n",
      "2019-08-10 20:20:04,479 INFO Train - Epoch: 19, LR: 0.01, train_loss: 1.473133\n",
      "2019-08-10 20:20:06,589 INFO Validation - Epoch: 19, val_loss: 1.471569\n",
      "2019-08-10 20:20:29,970 INFO Train - Epoch: 20, LR: 0.01, train_loss: 1.473402\n",
      "2019-08-10 20:20:32,154 INFO Validation - Epoch: 20, val_loss: 1.470451\n"
     ]
    }
   ],
   "source": [
    "model1.fit(mnist_trainset, val_loader=mnist_valset, max_epochs=20)"
   ]
  },
  {
   "cell_type": "code",
   "execution_count": null,
   "metadata": {},
   "outputs": [],
   "source": []
  }
 ],
 "metadata": {
  "kernelspec": {
   "display_name": "Python 3",
   "language": "python",
   "name": "python3"
  },
  "language_info": {
   "codemirror_mode": {
    "name": "ipython",
    "version": 3
   },
   "file_extension": ".py",
   "mimetype": "text/x-python",
   "name": "python",
   "nbconvert_exporter": "python",
   "pygments_lexer": "ipython3",
   "version": "3.6.8"
  }
 },
 "nbformat": 4,
 "nbformat_minor": 2
}
