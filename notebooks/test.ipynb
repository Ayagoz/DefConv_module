{
 "cells": [
  {
   "cell_type": "code",
   "execution_count": 1,
   "metadata": {},
   "outputs": [],
   "source": [
    "import torch\n",
    "from torch import nn\n",
    "import numpy as np\n",
    "from defconv.models import ConvNet, DeformConvNet\n",
    "from argus import Model\n",
    "import torchvision.datasets as datasets\n",
    "import torchvision.transforms as transforms\n",
    "from torch.utils.data import DataLoader\n",
    "from sklearn.metrics import accuracy_score"
   ]
  },
  {
   "cell_type": "code",
   "execution_count": 2,
   "metadata": {},
   "outputs": [],
   "source": [
    "transform=transforms.Compose([\n",
    "                   transforms.ToTensor(),\n",
    "                   transforms.Normalize((0.1307,), (0.3081,))\n",
    "               ])"
   ]
  },
  {
   "cell_type": "code",
   "execution_count": 3,
   "metadata": {},
   "outputs": [],
   "source": [
    "mnist_trainset = DataLoader(datasets.MNIST(root='./data', train=True, download=True, transform=transform),\n",
    "                           batch_size=64,shuffle=True)\n",
    "mnist_valset = DataLoader(datasets.MNIST(root='./data', train=False, download=True, transform=transform),\n",
    "                         batch_size=64, shuffle=True)"
   ]
  },
  {
   "cell_type": "code",
   "execution_count": 4,
   "metadata": {},
   "outputs": [],
   "source": [
    "# in_channels = 1\n",
    "# channels = [32,32,64,64, 128, 128, 128 ,128]\n",
    "# n_classes = 10\n",
    "# convnet = ConvNet(in_channels, channels, n_classes, padding=1)\n",
    "# defconvnet = DeformConvNet(in_channels, channels, n_classes, padding=1)\n",
    "\n",
    "# print(convnet(torch.rand((1,1,28,28))).shape)\n",
    "\n",
    "# print(defconvnet(torch.rand(64,1,28,28)).shape)"
   ]
  },
  {
   "cell_type": "code",
   "execution_count": 5,
   "metadata": {},
   "outputs": [],
   "source": [
    "class ConvNetArgus(Model):\n",
    "    nn_module = ConvNet\n",
    "    loss = 'CrossEntropyLoss'\n",
    "\n",
    "class DeformConvNetArgus(Model):\n",
    "    nn_module = DeformConvNet\n",
    "    loss = 'CrossEntropyLoss'"
   ]
  },
  {
   "cell_type": "code",
   "execution_count": 6,
   "metadata": {},
   "outputs": [],
   "source": [
    "PARAMS = {'nn_module': {\n",
    "                        'in_channels': 1,\n",
    "                         'channels': [32, 32, 64, 64, 128, 128, 128 ,128],\n",
    "                         'n_classes': 10\n",
    "                        },\n",
    "          \n",
    "           'optimizer': ('Adam', {'lr':1e-4}),\n",
    "           'device':'cuda'\n",
    "         }"
   ]
  },
  {
   "cell_type": "code",
   "execution_count": 7,
   "metadata": {},
   "outputs": [],
   "source": [
    "model2 = DeformConvNetArgus(PARAMS)"
   ]
  },
  {
   "cell_type": "code",
   "execution_count": 8,
   "metadata": {
    "scrolled": true
   },
   "outputs": [
    {
     "name": "stderr",
     "output_type": "stream",
     "text": [
      "2019-08-18 19:13:21,409 INFO Validation, val_loss: 2.302594\n",
      "2019-08-18 19:13:59,190 INFO Train - Epoch: 1, LR: 0.0001, train_loss: 1.734396\n",
      "2019-08-18 19:14:02,331 INFO Validation - Epoch: 1, val_loss: 1.511404\n",
      "2019-08-18 19:14:41,481 INFO Train - Epoch: 2, LR: 0.0001, train_loss: 1.495911\n",
      "2019-08-18 19:14:44,809 INFO Validation - Epoch: 2, val_loss: 1.480819\n",
      "2019-08-18 19:15:26,313 INFO Train - Epoch: 3, LR: 0.0001, train_loss: 1.479378\n",
      "2019-08-18 19:15:29,592 INFO Validation - Epoch: 3, val_loss: 1.473534\n",
      "2019-08-18 19:16:11,589 INFO Train - Epoch: 4, LR: 0.0001, train_loss: 1.474255\n",
      "2019-08-18 19:16:14,860 INFO Validation - Epoch: 4, val_loss: 1.469982\n",
      "2019-08-18 19:16:55,766 INFO Train - Epoch: 5, LR: 0.0001, train_loss: 1.472167\n",
      "2019-08-18 19:16:59,117 INFO Validation - Epoch: 5, val_loss: 1.471421\n",
      "2019-08-18 19:17:40,452 INFO Train - Epoch: 6, LR: 0.0001, train_loss: 1.471722\n",
      "2019-08-18 19:17:43,825 INFO Validation - Epoch: 6, val_loss: 1.469036\n",
      "2019-08-18 19:18:24,748 INFO Train - Epoch: 7, LR: 0.0001, train_loss: 1.471291\n",
      "2019-08-18 19:18:28,075 INFO Validation - Epoch: 7, val_loss: 1.471004\n",
      "2019-08-18 19:19:09,015 INFO Train - Epoch: 8, LR: 0.0001, train_loss: 1.4703\n",
      "2019-08-18 19:19:12,271 INFO Validation - Epoch: 8, val_loss: 1.468375\n",
      "2019-08-18 19:19:54,619 INFO Train - Epoch: 9, LR: 0.0001, train_loss: 1.469984\n",
      "2019-08-18 19:19:57,974 INFO Validation - Epoch: 9, val_loss: 1.469025\n",
      "2019-08-18 19:20:38,708 INFO Train - Epoch: 10, LR: 0.0001, train_loss: 1.469408\n",
      "2019-08-18 19:20:42,099 INFO Validation - Epoch: 10, val_loss: 1.47001\n",
      "2019-08-18 19:21:23,027 INFO Train - Epoch: 11, LR: 0.0001, train_loss: 1.469423\n",
      "2019-08-18 19:21:26,364 INFO Validation - Epoch: 11, val_loss: 1.467794\n",
      "2019-08-18 19:22:07,261 INFO Train - Epoch: 12, LR: 0.0001, train_loss: 1.468488\n",
      "2019-08-18 19:22:10,545 INFO Validation - Epoch: 12, val_loss: 1.471021\n",
      "2019-08-18 19:22:51,440 INFO Train - Epoch: 13, LR: 0.0001, train_loss: 1.468368\n",
      "2019-08-18 19:22:54,807 INFO Validation - Epoch: 13, val_loss: 1.466991\n",
      "2019-08-18 19:23:35,528 INFO Train - Epoch: 14, LR: 0.0001, train_loss: 1.468386\n",
      "2019-08-18 19:23:38,900 INFO Validation - Epoch: 14, val_loss: 1.468666\n",
      "2019-08-18 19:24:19,843 INFO Train - Epoch: 15, LR: 0.0001, train_loss: 1.468581\n",
      "2019-08-18 19:24:23,191 INFO Validation - Epoch: 15, val_loss: 1.469344\n",
      "2019-08-18 19:25:04,070 INFO Train - Epoch: 16, LR: 0.0001, train_loss: 1.468044\n",
      "2019-08-18 19:25:07,348 INFO Validation - Epoch: 16, val_loss: 1.472002\n",
      "2019-08-18 19:25:48,272 INFO Train - Epoch: 17, LR: 0.0001, train_loss: 1.467889\n",
      "2019-08-18 19:25:51,658 INFO Validation - Epoch: 17, val_loss: 1.468371\n",
      "2019-08-18 19:26:32,673 INFO Train - Epoch: 18, LR: 0.0001, train_loss: 1.467577\n",
      "2019-08-18 19:26:36,080 INFO Validation - Epoch: 18, val_loss: 1.467931\n",
      "2019-08-18 19:27:16,957 INFO Train - Epoch: 19, LR: 0.0001, train_loss: 1.467348\n",
      "2019-08-18 19:27:20,316 INFO Validation - Epoch: 19, val_loss: 1.467875\n",
      "2019-08-18 19:28:01,969 INFO Train - Epoch: 20, LR: 0.0001, train_loss: 1.46708\n",
      "2019-08-18 19:28:05,258 INFO Validation - Epoch: 20, val_loss: 1.467502\n",
      "2019-08-18 19:28:46,097 INFO Train - Epoch: 21, LR: 0.0001, train_loss: 1.467252\n",
      "2019-08-18 19:28:49,505 INFO Validation - Epoch: 21, val_loss: 1.467342\n",
      "2019-08-18 19:29:31,465 INFO Train - Epoch: 22, LR: 0.0001, train_loss: 1.466723\n",
      "2019-08-18 19:29:34,858 INFO Validation - Epoch: 22, val_loss: 1.467478\n",
      "2019-08-18 19:30:15,691 INFO Train - Epoch: 23, LR: 0.0001, train_loss: 1.466565\n",
      "2019-08-18 19:30:19,062 INFO Validation - Epoch: 23, val_loss: 1.468363\n",
      "2019-08-18 19:30:59,889 INFO Train - Epoch: 24, LR: 0.0001, train_loss: 1.466526\n",
      "2019-08-18 19:31:03,172 INFO Validation - Epoch: 24, val_loss: 1.46764\n",
      "2019-08-18 19:31:44,016 INFO Train - Epoch: 25, LR: 0.0001, train_loss: 1.466463\n",
      "2019-08-18 19:31:47,422 INFO Validation - Epoch: 25, val_loss: 1.468444\n",
      "2019-08-18 19:32:28,067 INFO Train - Epoch: 26, LR: 0.0001, train_loss: 1.46659\n",
      "2019-08-18 19:32:31,476 INFO Validation - Epoch: 26, val_loss: 1.467029\n",
      "2019-08-18 19:33:12,293 INFO Train - Epoch: 27, LR: 0.0001, train_loss: 1.466626\n",
      "2019-08-18 19:33:15,653 INFO Validation - Epoch: 27, val_loss: 1.467663\n",
      "2019-08-18 19:33:56,461 INFO Train - Epoch: 28, LR: 0.0001, train_loss: 1.466087\n",
      "2019-08-18 19:33:59,761 INFO Validation - Epoch: 28, val_loss: 1.466145\n",
      "2019-08-18 19:34:42,204 INFO Train - Epoch: 29, LR: 0.0001, train_loss: 1.466111\n",
      "2019-08-18 19:34:45,596 INFO Validation - Epoch: 29, val_loss: 1.467354\n",
      "2019-08-18 19:35:27,650 INFO Train - Epoch: 30, LR: 0.0001, train_loss: 1.465567\n",
      "2019-08-18 19:35:31,062 INFO Validation - Epoch: 30, val_loss: 1.467102\n",
      "2019-08-18 19:36:11,890 INFO Train - Epoch: 31, LR: 0.0001, train_loss: 1.465622\n",
      "2019-08-18 19:36:15,256 INFO Validation - Epoch: 31, val_loss: 1.467019\n",
      "2019-08-18 19:36:56,059 INFO Train - Epoch: 32, LR: 0.0001, train_loss: 1.465614\n",
      "2019-08-18 19:36:59,356 INFO Validation - Epoch: 32, val_loss: 1.466848\n",
      "2019-08-18 19:37:40,148 INFO Train - Epoch: 33, LR: 0.0001, train_loss: 1.465605\n",
      "2019-08-18 19:37:43,548 INFO Validation - Epoch: 33, val_loss: 1.468828\n",
      "2019-08-18 19:38:24,201 INFO Train - Epoch: 34, LR: 0.0001, train_loss: 1.465138\n",
      "2019-08-18 19:38:27,610 INFO Validation - Epoch: 34, val_loss: 1.468403\n",
      "2019-08-18 19:39:08,388 INFO Train - Epoch: 35, LR: 0.0001, train_loss: 1.465361\n",
      "2019-08-18 19:39:11,755 INFO Validation - Epoch: 35, val_loss: 1.467645\n",
      "2019-08-18 19:39:52,529 INFO Train - Epoch: 36, LR: 0.0001, train_loss: 1.466077\n",
      "2019-08-18 19:39:55,825 INFO Validation - Epoch: 36, val_loss: 1.46657\n",
      "2019-08-18 19:40:36,622 INFO Train - Epoch: 37, LR: 0.0001, train_loss: 1.465143\n",
      "2019-08-18 19:40:40,027 INFO Validation - Epoch: 37, val_loss: 1.466689\n",
      "2019-08-18 19:41:20,645 INFO Train - Epoch: 38, LR: 0.0001, train_loss: 1.465147\n",
      "2019-08-18 19:41:24,048 INFO Validation - Epoch: 38, val_loss: 1.466586\n",
      "2019-08-18 19:42:04,841 INFO Train - Epoch: 39, LR: 0.0001, train_loss: 1.464715\n",
      "2019-08-18 19:42:08,207 INFO Validation - Epoch: 39, val_loss: 1.467482\n",
      "2019-08-18 19:42:48,967 INFO Train - Epoch: 40, LR: 0.0001, train_loss: 1.464582\n",
      "2019-08-18 19:42:52,261 INFO Validation - Epoch: 40, val_loss: 1.467286\n",
      "2019-08-18 19:43:33,037 INFO Train - Epoch: 41, LR: 0.0001, train_loss: 1.465112\n",
      "2019-08-18 19:43:36,427 INFO Validation - Epoch: 41, val_loss: 1.466796\n",
      "2019-08-18 19:44:17,030 INFO Train - Epoch: 42, LR: 0.0001, train_loss: 1.465284\n",
      "2019-08-18 19:44:20,443 INFO Validation - Epoch: 42, val_loss: 1.466583\n",
      "2019-08-18 19:45:01,238 INFO Train - Epoch: 43, LR: 0.0001, train_loss: 1.464825\n",
      "2019-08-18 19:45:04,601 INFO Validation - Epoch: 43, val_loss: 1.46577\n",
      "2019-08-18 19:45:45,369 INFO Train - Epoch: 44, LR: 0.0001, train_loss: 1.46464\n",
      "2019-08-18 19:45:48,658 INFO Validation - Epoch: 44, val_loss: 1.466974\n",
      "2019-08-18 19:46:29,451 INFO Train - Epoch: 45, LR: 0.0001, train_loss: 1.464415\n",
      "2019-08-18 19:46:32,860 INFO Validation - Epoch: 45, val_loss: 1.466898\n",
      "2019-08-18 19:47:13,449 INFO Train - Epoch: 46, LR: 0.0001, train_loss: 1.464517\n",
      "2019-08-18 19:47:16,853 INFO Validation - Epoch: 46, val_loss: 1.466489\n",
      "2019-08-18 19:47:57,643 INFO Train - Epoch: 47, LR: 0.0001, train_loss: 1.464332\n",
      "2019-08-18 19:48:01,015 INFO Validation - Epoch: 47, val_loss: 1.466585\n",
      "2019-08-18 19:48:41,784 INFO Train - Epoch: 48, LR: 0.0001, train_loss: 1.464282\n",
      "2019-08-18 19:48:45,076 INFO Validation - Epoch: 48, val_loss: 1.466196\n",
      "2019-08-18 19:49:25,846 INFO Train - Epoch: 49, LR: 0.0001, train_loss: 1.464141\n",
      "2019-08-18 19:49:29,238 INFO Validation - Epoch: 49, val_loss: 1.466268\n",
      "2019-08-18 19:50:09,821 INFO Train - Epoch: 50, LR: 0.0001, train_loss: 1.464792\n",
      "2019-08-18 19:50:13,228 INFO Validation - Epoch: 50, val_loss: 1.467876\n",
      "2019-08-18 19:50:53,975 INFO Train - Epoch: 51, LR: 0.0001, train_loss: 1.464053\n",
      "2019-08-18 19:50:57,343 INFO Validation - Epoch: 51, val_loss: 1.467604\n",
      "2019-08-18 19:51:38,118 INFO Train - Epoch: 52, LR: 0.0001, train_loss: 1.46446\n",
      "2019-08-18 19:51:41,406 INFO Validation - Epoch: 52, val_loss: 1.466741\n",
      "2019-08-18 19:52:22,171 INFO Train - Epoch: 53, LR: 0.0001, train_loss: 1.464122\n",
      "2019-08-18 19:52:25,579 INFO Validation - Epoch: 53, val_loss: 1.466622\n",
      "2019-08-18 19:53:06,189 INFO Train - Epoch: 54, LR: 0.0001, train_loss: 1.464538\n"
     ]
    },
    {
     "name": "stderr",
     "output_type": "stream",
     "text": [
      "2019-08-18 19:53:09,591 INFO Validation - Epoch: 54, val_loss: 1.466342\n",
      "2019-08-18 19:53:50,358 INFO Train - Epoch: 55, LR: 0.0001, train_loss: 1.464073\n",
      "2019-08-18 19:53:53,727 INFO Validation - Epoch: 55, val_loss: 1.466036\n",
      "2019-08-18 19:54:34,493 INFO Train - Epoch: 56, LR: 0.0001, train_loss: 1.463936\n",
      "2019-08-18 19:54:37,798 INFO Validation - Epoch: 56, val_loss: 1.466306\n",
      "2019-08-18 19:55:18,559 INFO Train - Epoch: 57, LR: 0.0001, train_loss: 1.464135\n",
      "2019-08-18 19:55:21,959 INFO Validation - Epoch: 57, val_loss: 1.46655\n",
      "2019-08-18 19:56:02,624 INFO Train - Epoch: 58, LR: 0.0001, train_loss: 1.464001\n",
      "2019-08-18 19:56:06,038 INFO Validation - Epoch: 58, val_loss: 1.467072\n",
      "2019-08-18 19:56:46,849 INFO Train - Epoch: 59, LR: 0.0001, train_loss: 1.46384\n",
      "2019-08-18 19:56:50,217 INFO Validation - Epoch: 59, val_loss: 1.466898\n",
      "2019-08-18 19:57:31,057 INFO Train - Epoch: 60, LR: 0.0001, train_loss: 1.463647\n",
      "2019-08-18 19:57:34,350 INFO Validation - Epoch: 60, val_loss: 1.467014\n",
      "2019-08-18 19:58:15,178 INFO Train - Epoch: 61, LR: 0.0001, train_loss: 1.463881\n",
      "2019-08-18 19:58:18,591 INFO Validation - Epoch: 61, val_loss: 1.466589\n",
      "2019-08-18 19:58:59,258 INFO Train - Epoch: 62, LR: 0.0001, train_loss: 1.463873\n",
      "2019-08-18 19:59:02,663 INFO Validation - Epoch: 62, val_loss: 1.466559\n",
      "2019-08-18 19:59:43,493 INFO Train - Epoch: 63, LR: 0.0001, train_loss: 1.463926\n",
      "2019-08-18 19:59:46,862 INFO Validation - Epoch: 63, val_loss: 1.466735\n",
      "2019-08-18 20:00:27,698 INFO Train - Epoch: 64, LR: 0.0001, train_loss: 1.46365\n",
      "2019-08-18 20:00:30,993 INFO Validation - Epoch: 64, val_loss: 1.465779\n",
      "2019-08-18 20:01:11,815 INFO Train - Epoch: 65, LR: 0.0001, train_loss: 1.46341\n",
      "2019-08-18 20:01:15,216 INFO Validation - Epoch: 65, val_loss: 1.467301\n",
      "2019-08-18 20:01:55,870 INFO Train - Epoch: 66, LR: 0.0001, train_loss: 1.463817\n",
      "2019-08-18 20:01:59,279 INFO Validation - Epoch: 66, val_loss: 1.468414\n",
      "2019-08-18 20:02:40,120 INFO Train - Epoch: 67, LR: 0.0001, train_loss: 1.463595\n",
      "2019-08-18 20:02:43,483 INFO Validation - Epoch: 67, val_loss: 1.466115\n",
      "2019-08-18 20:03:24,302 INFO Train - Epoch: 68, LR: 0.0001, train_loss: 1.463291\n",
      "2019-08-18 20:03:27,587 INFO Validation - Epoch: 68, val_loss: 1.466644\n",
      "2019-08-18 20:04:08,385 INFO Train - Epoch: 69, LR: 0.0001, train_loss: 1.463613\n",
      "2019-08-18 20:04:11,795 INFO Validation - Epoch: 69, val_loss: 1.46718\n",
      "2019-08-18 20:04:52,467 INFO Train - Epoch: 70, LR: 0.0001, train_loss: 1.463476\n",
      "2019-08-18 20:04:55,875 INFO Validation - Epoch: 70, val_loss: 1.466744\n",
      "2019-08-18 20:05:36,716 INFO Train - Epoch: 71, LR: 0.0001, train_loss: 1.463724\n",
      "2019-08-18 20:05:40,085 INFO Validation - Epoch: 71, val_loss: 1.46661\n",
      "2019-08-18 20:06:22,091 INFO Train - Epoch: 72, LR: 0.0001, train_loss: 1.463894\n",
      "2019-08-18 20:06:25,408 INFO Validation - Epoch: 72, val_loss: 1.466071\n",
      "2019-08-18 20:07:06,346 INFO Train - Epoch: 73, LR: 0.0001, train_loss: 1.46382\n",
      "2019-08-18 20:07:09,790 INFO Validation - Epoch: 73, val_loss: 1.466604\n",
      "2019-08-18 20:07:50,403 INFO Train - Epoch: 74, LR: 0.0001, train_loss: 1.463241\n",
      "2019-08-18 20:07:53,806 INFO Validation - Epoch: 74, val_loss: 1.467041\n",
      "2019-08-18 20:08:34,645 INFO Train - Epoch: 75, LR: 0.0001, train_loss: 1.463624\n",
      "2019-08-18 20:08:38,015 INFO Validation - Epoch: 75, val_loss: 1.467949\n",
      "2019-08-18 20:09:18,834 INFO Train - Epoch: 76, LR: 0.0001, train_loss: 1.46341\n",
      "2019-08-18 20:09:22,134 INFO Validation - Epoch: 76, val_loss: 1.467333\n",
      "2019-08-18 20:10:02,971 INFO Train - Epoch: 77, LR: 0.0001, train_loss: 1.463319\n",
      "2019-08-18 20:10:06,378 INFO Validation - Epoch: 77, val_loss: 1.467466\n",
      "2019-08-18 20:10:48,511 INFO Train - Epoch: 78, LR: 0.0001, train_loss: 1.463731\n",
      "2019-08-18 20:10:51,936 INFO Validation - Epoch: 78, val_loss: 1.466289\n",
      "2019-08-18 20:11:32,697 INFO Train - Epoch: 79, LR: 0.0001, train_loss: 1.463373\n",
      "2019-08-18 20:11:36,065 INFO Validation - Epoch: 79, val_loss: 1.466409\n",
      "2019-08-18 20:12:17,023 INFO Train - Epoch: 80, LR: 0.0001, train_loss: 1.463582\n",
      "2019-08-18 20:12:20,355 INFO Validation - Epoch: 80, val_loss: 1.4664\n",
      "2019-08-18 20:13:01,556 INFO Train - Epoch: 81, LR: 0.0001, train_loss: 1.463727\n",
      "2019-08-18 20:13:05,006 INFO Validation - Epoch: 81, val_loss: 1.466603\n",
      "2019-08-18 20:13:45,622 INFO Train - Epoch: 82, LR: 0.0001, train_loss: 1.463284\n",
      "2019-08-18 20:13:49,036 INFO Validation - Epoch: 82, val_loss: 1.467237\n",
      "2019-08-18 20:14:29,848 INFO Train - Epoch: 83, LR: 0.0001, train_loss: 1.463636\n",
      "2019-08-18 20:14:33,217 INFO Validation - Epoch: 83, val_loss: 1.46644\n",
      "2019-08-18 20:15:15,177 INFO Train - Epoch: 84, LR: 0.0001, train_loss: 1.463425\n",
      "2019-08-18 20:15:18,503 INFO Validation - Epoch: 84, val_loss: 1.465872\n",
      "2019-08-18 20:15:59,248 INFO Train - Epoch: 85, LR: 0.0001, train_loss: 1.463165\n",
      "2019-08-18 20:16:02,660 INFO Validation - Epoch: 85, val_loss: 1.466285\n",
      "2019-08-18 20:16:44,375 INFO Train - Epoch: 86, LR: 0.0001, train_loss: 1.462989\n",
      "2019-08-18 20:16:47,806 INFO Validation - Epoch: 86, val_loss: 1.466868\n",
      "2019-08-18 20:17:28,576 INFO Train - Epoch: 87, LR: 0.0001, train_loss: 1.463157\n",
      "2019-08-18 20:17:31,948 INFO Validation - Epoch: 87, val_loss: 1.467157\n",
      "2019-08-18 20:18:12,765 INFO Train - Epoch: 88, LR: 0.0001, train_loss: 1.463041\n",
      "2019-08-18 20:18:16,056 INFO Validation - Epoch: 88, val_loss: 1.466208\n",
      "2019-08-18 20:18:57,595 INFO Train - Epoch: 89, LR: 0.0001, train_loss: 1.462885\n",
      "2019-08-18 20:19:01,025 INFO Validation - Epoch: 89, val_loss: 1.466422\n",
      "2019-08-18 20:19:41,641 INFO Train - Epoch: 90, LR: 0.0001, train_loss: 1.463113\n",
      "2019-08-18 20:19:45,046 INFO Validation - Epoch: 90, val_loss: 1.466896\n",
      "2019-08-18 20:20:25,820 INFO Train - Epoch: 91, LR: 0.0001, train_loss: 1.463134\n",
      "2019-08-18 20:20:29,186 INFO Validation - Epoch: 91, val_loss: 1.467001\n",
      "2019-08-18 20:21:09,951 INFO Train - Epoch: 92, LR: 0.0001, train_loss: 1.462922\n",
      "2019-08-18 20:21:13,250 INFO Validation - Epoch: 92, val_loss: 1.467162\n",
      "2019-08-18 20:21:54,042 INFO Train - Epoch: 93, LR: 0.0001, train_loss: 1.462867\n",
      "2019-08-18 20:21:57,441 INFO Validation - Epoch: 93, val_loss: 1.466752\n",
      "2019-08-18 20:22:39,453 INFO Train - Epoch: 94, LR: 0.0001, train_loss: 1.46273\n",
      "2019-08-18 20:22:42,883 INFO Validation - Epoch: 94, val_loss: 1.467182\n",
      "2019-08-18 20:23:24,285 INFO Train - Epoch: 95, LR: 0.0001, train_loss: 1.463018\n",
      "2019-08-18 20:23:27,679 INFO Validation - Epoch: 95, val_loss: 1.466661\n",
      "2019-08-18 20:24:09,452 INFO Train - Epoch: 96, LR: 0.0001, train_loss: 1.462862\n",
      "2019-08-18 20:24:12,766 INFO Validation - Epoch: 96, val_loss: 1.467032\n",
      "2019-08-18 20:24:53,549 INFO Train - Epoch: 97, LR: 0.0001, train_loss: 1.462699\n",
      "2019-08-18 20:24:56,956 INFO Validation - Epoch: 97, val_loss: 1.466518\n",
      "2019-08-18 20:25:37,573 INFO Train - Epoch: 98, LR: 0.0001, train_loss: 1.462771\n",
      "2019-08-18 20:25:40,983 INFO Validation - Epoch: 98, val_loss: 1.467109\n",
      "2019-08-18 20:26:21,786 INFO Train - Epoch: 99, LR: 0.0001, train_loss: 1.462537\n",
      "2019-08-18 20:26:25,150 INFO Validation - Epoch: 99, val_loss: 1.466159\n",
      "2019-08-18 20:27:05,937 INFO Train - Epoch: 100, LR: 0.0001, train_loss: 1.462974\n",
      "2019-08-18 20:27:09,232 INFO Validation - Epoch: 100, val_loss: 1.466212\n"
     ]
    }
   ],
   "source": [
    "model2.fit(mnist_trainset, val_loader=mnist_valset, max_epochs=100)"
   ]
  },
  {
   "cell_type": "code",
   "execution_count": 15,
   "metadata": {},
   "outputs": [],
   "source": [
    "from dpipe.torch.utils import to_var, to_np\n",
    "targets = []\n",
    "prediction = []\n",
    "\n",
    "for batch in mnist_valset:\n",
    "    input, target = batch\n",
    "    preds = model2.predict(input.cuda())\n",
    "    prediction.extend(to_np(preds))\n",
    "    targets.extend(to_np(target))"
   ]
  },
  {
   "cell_type": "code",
   "execution_count": 16,
   "metadata": {},
   "outputs": [],
   "source": [
    "prediction = np.array(prediction)\n",
    "targets = np.array(targets)"
   ]
  },
  {
   "cell_type": "code",
   "execution_count": 17,
   "metadata": {},
   "outputs": [
    {
     "data": {
      "text/plain": [
       "0.9898"
      ]
     },
     "execution_count": 17,
     "metadata": {},
     "output_type": "execute_result"
    }
   ],
   "source": [
    "accuracy_score(targets, prediction.argmax(-1))"
   ]
  },
  {
   "cell_type": "code",
   "execution_count": 18,
   "metadata": {},
   "outputs": [],
   "source": [
    "model1 = ConvNetArgus(PARAMS)"
   ]
  },
  {
   "cell_type": "code",
   "execution_count": 19,
   "metadata": {},
   "outputs": [
    {
     "name": "stderr",
     "output_type": "stream",
     "text": [
      "2019-08-18 18:38:49,226 INFO Validation, val_loss: 2.302661\n",
      "2019-08-18 18:39:10,691 INFO Train - Epoch: 1, LR: 0.0001, train_loss: 1.882903\n",
      "2019-08-18 18:39:12,762 INFO Validation - Epoch: 1, val_loss: 1.595926\n",
      "2019-08-18 18:39:34,299 INFO Train - Epoch: 2, LR: 0.0001, train_loss: 1.530607\n",
      "2019-08-18 18:39:36,365 INFO Validation - Epoch: 2, val_loss: 1.491429\n",
      "2019-08-18 18:39:57,959 INFO Train - Epoch: 3, LR: 0.0001, train_loss: 1.489722\n",
      "2019-08-18 18:40:00,038 INFO Validation - Epoch: 3, val_loss: 1.48318\n",
      "2019-08-18 18:40:23,698 INFO Train - Epoch: 4, LR: 0.0001, train_loss: 1.479962\n",
      "2019-08-18 18:40:25,865 INFO Validation - Epoch: 4, val_loss: 1.47548\n",
      "2019-08-18 18:40:49,991 INFO Train - Epoch: 5, LR: 0.0001, train_loss: 1.476031\n",
      "2019-08-18 18:40:52,186 INFO Validation - Epoch: 5, val_loss: 1.474442\n",
      "2019-08-18 18:41:16,064 INFO Train - Epoch: 6, LR: 0.0001, train_loss: 1.473211\n",
      "2019-08-18 18:41:18,246 INFO Validation - Epoch: 6, val_loss: 1.472171\n",
      "2019-08-18 18:41:42,211 INFO Train - Epoch: 7, LR: 0.0001, train_loss: 1.471458\n",
      "2019-08-18 18:41:44,405 INFO Validation - Epoch: 7, val_loss: 1.473736\n",
      "2019-08-18 18:42:08,316 INFO Train - Epoch: 8, LR: 0.0001, train_loss: 1.470352\n",
      "2019-08-18 18:42:10,497 INFO Validation - Epoch: 8, val_loss: 1.471272\n",
      "2019-08-18 18:42:34,441 INFO Train - Epoch: 9, LR: 0.0001, train_loss: 1.468986\n",
      "2019-08-18 18:42:36,623 INFO Validation - Epoch: 9, val_loss: 1.471625\n",
      "2019-08-18 18:43:00,481 INFO Train - Epoch: 10, LR: 0.0001, train_loss: 1.46835\n",
      "2019-08-18 18:43:02,655 INFO Validation - Epoch: 10, val_loss: 1.469352\n",
      "2019-08-18 18:43:26,552 INFO Train - Epoch: 11, LR: 0.0001, train_loss: 1.467828\n",
      "2019-08-18 18:43:28,716 INFO Validation - Epoch: 11, val_loss: 1.468932\n",
      "2019-08-18 18:43:52,715 INFO Train - Epoch: 12, LR: 0.0001, train_loss: 1.467726\n",
      "2019-08-18 18:43:54,886 INFO Validation - Epoch: 12, val_loss: 1.471346\n",
      "2019-08-18 18:44:18,832 INFO Train - Epoch: 13, LR: 0.0001, train_loss: 1.466845\n",
      "2019-08-18 18:44:21,002 INFO Validation - Epoch: 13, val_loss: 1.469757\n",
      "2019-08-18 18:44:43,228 INFO Train - Epoch: 14, LR: 0.0001, train_loss: 1.466808\n",
      "2019-08-18 18:44:45,327 INFO Validation - Epoch: 14, val_loss: 1.46784\n",
      "2019-08-18 18:45:08,684 INFO Train - Epoch: 15, LR: 0.0001, train_loss: 1.466246\n",
      "2019-08-18 18:45:10,862 INFO Validation - Epoch: 15, val_loss: 1.469587\n",
      "2019-08-18 18:45:34,766 INFO Train - Epoch: 16, LR: 0.0001, train_loss: 1.466626\n",
      "2019-08-18 18:45:36,933 INFO Validation - Epoch: 16, val_loss: 1.466765\n",
      "2019-08-18 18:45:59,843 INFO Train - Epoch: 17, LR: 0.0001, train_loss: 1.465706\n",
      "2019-08-18 18:46:01,955 INFO Validation - Epoch: 17, val_loss: 1.468278\n",
      "2019-08-18 18:46:24,062 INFO Train - Epoch: 18, LR: 0.0001, train_loss: 1.465756\n",
      "2019-08-18 18:46:26,152 INFO Validation - Epoch: 18, val_loss: 1.468679\n",
      "2019-08-18 18:46:50,034 INFO Train - Epoch: 19, LR: 0.0001, train_loss: 1.464841\n",
      "2019-08-18 18:46:52,200 INFO Validation - Epoch: 19, val_loss: 1.467763\n",
      "2019-08-18 18:47:16,085 INFO Train - Epoch: 20, LR: 0.0001, train_loss: 1.465136\n",
      "2019-08-18 18:47:18,247 INFO Validation - Epoch: 20, val_loss: 1.467399\n"
     ]
    }
   ],
   "source": [
    "model1.fit(mnist_trainset, val_loader=mnist_valset, max_epochs=20)"
   ]
  },
  {
   "cell_type": "code",
   "execution_count": 20,
   "metadata": {},
   "outputs": [],
   "source": [
    "from dpipe.torch.utils import to_var, to_np\n",
    "targets = []\n",
    "prediction = []\n",
    "\n",
    "for batch in mnist_valset:\n",
    "    input, target = batch\n",
    "    preds = model1.predict(input.cuda())\n",
    "    prediction.extend(to_np(preds))\n",
    "    targets.extend(to_np(target))"
   ]
  },
  {
   "cell_type": "code",
   "execution_count": 21,
   "metadata": {},
   "outputs": [],
   "source": [
    "prediction = np.array(prediction)\n",
    "targets = np.array(targets)"
   ]
  },
  {
   "cell_type": "code",
   "execution_count": 22,
   "metadata": {},
   "outputs": [
    {
     "data": {
      "text/plain": [
       "0.9949"
      ]
     },
     "execution_count": 22,
     "metadata": {},
     "output_type": "execute_result"
    }
   ],
   "source": [
    "accuracy_score(targets, prediction.argmax(-1))"
   ]
  },
  {
   "cell_type": "code",
   "execution_count": null,
   "metadata": {},
   "outputs": [],
   "source": []
  }
 ],
 "metadata": {
  "kernelspec": {
   "display_name": "Python 3",
   "language": "python",
   "name": "python3"
  },
  "language_info": {
   "codemirror_mode": {
    "name": "ipython",
    "version": 3
   },
   "file_extension": ".py",
   "mimetype": "text/x-python",
   "name": "python",
   "nbconvert_exporter": "python",
   "pygments_lexer": "ipython3",
   "version": "3.6.8"
  }
 },
 "nbformat": 4,
 "nbformat_minor": 2
}
